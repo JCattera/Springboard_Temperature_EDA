{
 "cells": [
  {
   "cell_type": "markdown",
   "metadata": {},
   "source": [
    "# What is the True Normal Human Body Temperature? \n",
    "\n",
    "#### Background\n",
    "\n",
    "The mean normal body temperature was held to be 37$^{\\circ}$C or 98.6$^{\\circ}$F for more than 120 years since it was first conceptualized and reported by Carl Wunderlich in a famous 1868 book. But, is this value statistically correct?"
   ]
  },
  {
   "cell_type": "markdown",
   "metadata": {},
   "source": [
    "<h3>Exercises</h3>\n",
    "\n",
    "<p>In this exercise, you will analyze a dataset of human body temperatures and employ the concepts of hypothesis testing, confidence intervals, and statistical significance.</p>\n",
    "\n",
    "<p>Answer the following questions <b>in this notebook below and submit to your Github account</b>.</p> \n",
    "\n",
    "<ol>\n",
    "<li>  Is the distribution of body temperatures normal? \n",
    "    <ul>\n",
    "    <li> Although this is not a requirement for the Central Limit Theorem to hold (read the introduction on Wikipedia's page about the CLT carefully: https://en.wikipedia.org/wiki/Central_limit_theorem), it gives us some peace of mind that the population may also be normally distributed if we assume that this sample is representative of the population.\n",
    "    <li> Think about the way you're going to check for the normality of the distribution. Graphical methods are usually used first, but there are also other ways: https://en.wikipedia.org/wiki/Normality_test\n",
    "    </ul>\n",
    "<li>  Is the sample size large? Are the observations independent?\n",
    "    <ul>\n",
    "    <li> Remember that this is a condition for the Central Limit Theorem, and hence the statistical tests we are using, to apply.\n",
    "    </ul>\n",
    "<li>  Is the true population mean really 98.6 degrees F?\n",
    "    <ul>\n",
    "    <li> First, try a bootstrap hypothesis test.\n",
    "    <li> Now, let's try frequentist statistical testing. Would you use a one-sample or two-sample test? Why?\n",
    "    <li> In this situation, is it appropriate to use the $t$ or $z$ statistic? \n",
    "    <li> Now try using the other test. How is the result different? Why?\n",
    "    </ul>\n",
    "<li>  Draw a small sample of size 10 from the data and repeat both frequentist tests. \n",
    "    <ul>\n",
    "    <li> Which one is the correct one to use? \n",
    "    <li> What do you notice? What does this tell you about the difference in application of the $t$ and $z$ statistic?\n",
    "    </ul>\n",
    "<li>  At what temperature should we consider someone's temperature to be \"abnormal\"?\n",
    "    <ul>\n",
    "    <li> As in the previous example, try calculating everything using the bootstrap approach, as well as the frequentist approach.\n",
    "    <li> Start by computing the margin of error and confidence interval. When calculating the confidence interval, keep in mind that you should use the appropriate formula for one draw, and not N draws.\n",
    "    </ul>\n",
    "<li>  Is there a significant difference between males and females in normal temperature?\n",
    "    <ul>\n",
    "    <li> What testing approach did you use and why?\n",
    "    <li> Write a story with your conclusion in the context of the original problem.\n",
    "    </ul>\n",
    "</ol>\n",
    "\n",
    "You can include written notes in notebook cells using Markdown: \n",
    "   - In the control panel at the top, choose Cell > Cell Type > Markdown\n",
    "   - Markdown syntax: http://nestacms.com/docs/creating-content/markdown-cheat-sheet\n",
    "\n",
    "#### Resources\n",
    "\n",
    "+ Information and data sources: http://www.amstat.org/publications/jse/datasets/normtemp.txt, http://www.amstat.org/publications/jse/jse_data_archive.htm\n",
    "+ Markdown syntax: http://nestacms.com/docs/creating-content/markdown-cheat-sheet\n",
    "\n",
    "****"
   ]
  },
  {
   "cell_type": "code",
   "execution_count": 1,
   "metadata": {},
   "outputs": [],
   "source": [
    "import pandas as pd\n",
    "import matplotlib.pyplot as plt\n",
    "import numpy as np\n",
    "from scipy import stats\n",
    "df = pd.read_csv('data/human_body_temperature.csv')\n",
    "np.random.seed(3524)"
   ]
  },
  {
   "cell_type": "code",
   "execution_count": 2,
   "metadata": {},
   "outputs": [],
   "source": [
    "def ecdf(data): # from datacamp course \"Statistical Thinking in Python (Part 1)\"\n",
    "    \"\"\"Compute ECDF for a one-dimensional array of measurements.\"\"\"\n",
    "    # Number of data points: n\n",
    "    n = len(data)\n",
    "\n",
    "    # x-data for the ECDF: x\n",
    "    x = np.sort(data)\n",
    "\n",
    "    # y-data for the ECDF: y\n",
    "    y = np.arange(1, n+1) / n\n",
    "\n",
    "    return x, y\n",
    "\n",
    "#for drawing bootstrap replicates\n",
    "def draw_bs_reps(data, func, size=1):\n",
    "    \"\"\"Draw bootstrap replicates.\"\"\"\n",
    "\n",
    "    # Initialize array of replicates: bs_replicates\n",
    "    bs_replicates = np.empty(size)\n",
    "\n",
    "    # Generate replicates\n",
    "    for i in range(size):\n",
    "        bs_replicates[i] = func(np.random.choice(data, size=len(data)))\n",
    "\n",
    "    return bs_replicates"
   ]
  },
  {
   "cell_type": "markdown",
   "metadata": {},
   "source": [
    "## 1.\n",
    "To check for normality, we first use graphical methods to see if it's a normal distribution."
   ]
  },
  {
   "cell_type": "code",
   "execution_count": 152,
   "metadata": {},
   "outputs": [
    {
     "name": "stdout",
     "output_type": "stream",
     "text": [
      "Sample mean: 98.249 degrees Fahrenheit.\n",
      "Sample standard deviation: 0.73 degrees Fahrenheit.\n"
     ]
    },
    {
     "data": {
      "image/png": "[encoded data removed]",
      "text/plain": [
       "<Figure size 432x288 with 1 Axes>"
      ]
     },
     "metadata": {
      "needs_background": "light"
     },
     "output_type": "display_data"
    }
   ],
   "source": [
    "# Your work here.\n",
    "temp_sample_mean=np.mean(df.temperature)\n",
    "print(\"Sample mean: \"+str(np.round(temp_sample_mean,3))+\" degrees Fahrenheit.\")\n",
    "temp_sample_std=np.std(df.temperature)\n",
    "print(\"Sample standard deviation: \"+str(np.round(temp_sample_std,3))+\" degrees Fahrenheit.\")\n",
    "\n",
    "x = np.linspace(temp_sample_mean-4*temp_sample_std,temp_sample_mean+4*temp_sample_std, 5000)\n",
    "y_pdf = stats.norm.pdf(x,temp_sample_mean,temp_sample_std)\n",
    "plt.hist(df.temperature, normed=True, bins=20)\n",
    "plt.plot(x,y_pdf)\n",
    "plt.xlabel('Temperature (F)')\n",
    "plt.ylabel('Count')\n",
    "plt.show()"
   ]
  },
  {
   "cell_type": "markdown",
   "metadata": {},
   "source": [
    "The distribution appears to be normal, if slightly right skewed."
   ]
  },
  {
   "cell_type": "code",
   "execution_count": 4,
   "metadata": {},
   "outputs": [
    {
     "data": {
      "image/png": "[encoded data removed]",
      "text/plain": [
       "<Figure size 432x288 with 1 Axes>"
      ]
     },
     "metadata": {
      "needs_background": "light"
     },
     "output_type": "display_data"
    }
   ],
   "source": [
    "samples = np.random.normal(temp_sample_mean, temp_sample_std, size=1000000)\n",
    "x_obs, y_obs=ecdf(df.temperature)\n",
    "x_samp, y_samp=ecdf(samples)\n",
    "plt.plot(x_samp, y_samp)\n",
    "plt.plot(x_obs, y_obs, linestyle='none',marker='.')\n",
    "plt.show()"
   ]
  },
  {
   "cell_type": "markdown",
   "metadata": {},
   "source": [
    "The empirical CDF of the temperature data also seems to indicate a normal distribution.\n",
    "\n",
    "We can use the [Shapiro-Wilk normality test](https://en.wikipedia.org/wiki/Shapiro–Wilk_test) to test the null hypothesis that the sample came from a population with a normal distribution. "
   ]
  },
  {
   "cell_type": "code",
   "execution_count": 5,
   "metadata": {},
   "outputs": [
    {
     "name": "stdout",
     "output_type": "stream",
     "text": [
      "The W-statistic calculated from the Shapiro-Wilk test for the temperature dataset is 0.9865770936012268.\n",
      "The p-value for the Shapiro-Wilk test is 0.233174666762352.\n"
     ]
    }
   ],
   "source": [
    "W_statistic, p_value=stats.shapiro(df.temperature)\n",
    "print(\"The W-statistic calculated from the Shapiro-Wilk test for the temperature dataset is \"+str(W_statistic)+\".\")\n",
    "print(\"The p-value for the Shapiro-Wilk test is \"+str(p_value)+\".\")"
   ]
  },
  {
   "cell_type": "markdown",
   "metadata": {},
   "source": [
    "Since the p-value is much larger than .05, we fail to reject the null hypothesis that the sample came from a population with a normal distribution.\n",
    "## 2. "
   ]
  },
  {
   "cell_type": "code",
   "execution_count": 6,
   "metadata": {},
   "outputs": [
    {
     "name": "stdout",
     "output_type": "stream",
     "text": [
      "130\n"
     ]
    }
   ],
   "source": [
    "print(len(df.temperature))"
   ]
  },
  {
   "cell_type": "markdown",
   "metadata": {},
   "source": [
    "Since one of the conditions for the central limit theorem is a sample size n>30, we can assume that a sample size of 130 is large enough for the CLT to apply here as well. 130 is also well below 10% of the human population, so we can assume independence for the observations in this dataset. "
   ]
  },
  {
   "cell_type": "markdown",
   "metadata": {},
   "source": [
    "## 3. \n",
    "In our hypothesis test of whether the population mean is really 98.6 degrees Fahrenheit, our null and alternative hypotheses can be written as such:\n",
    "$$H_0:\\mu=98.6°F$$\n",
    "$$H_1: \\mu\\neq98.6°F$$\n",
    "First, we conduct a bootstrap hypothesis test to find the likelihood of getting the sample mean we got, provided that the null hypothesis is true."
   ]
  },
  {
   "cell_type": "code",
   "execution_count": 59,
   "metadata": {},
   "outputs": [
    {
     "data": {
      "text/plain": [
       "0.0"
      ]
     },
     "execution_count": 59,
     "metadata": {},
     "output_type": "execute_result"
    }
   ],
   "source": [
    "translated_temp=df.temperature-temp_sample_mean+98.6\n",
    "bs_trans_reps=draw_bs_reps(translated_temp,np.mean, 10000)\n",
    "p = np.sum(bs_trans_reps <= np.mean(df.temperature)) / 10000\n",
    "p"
   ]
  },
  {
   "cell_type": "markdown",
   "metadata": {},
   "source": [
    "The p-value from the hypothesis test is 0.0, suggesting that the null hypothesis that the population mean is 98.6°F is so unlikely given our sample that it should be rejected."
   ]
  },
  {
   "cell_type": "markdown",
   "metadata": {},
   "source": [
    "Next, we will try a frequentist statistical test. In this case, we're doing a one-sample test since we only have one sample mean. In this situation, it would be fair to use a $z$ statistic, which is equal to $$\\frac{\\bar{x}-\\mu_\\bar{x}}{\\sigma_\\bar{x}},$$ or the sample mean minus the assumed population mean divided by the standard deviation of the sampling distribution. The latter term is equal to $\\frac{\\sigma}{\\sqrt{n}}$, or the standard deviation of the population divided by the square root of the sample size. Since we don't know what $\\sigma$ is, we have to estimate it using the sample standard deviation, resulting in a statistic equal to $$\\frac{\\bar{x}-\\mu_\\bar{x}}{\\frac{s}{\\sqrt{n}}}.$$ This approximation would normally call for the use of a $t$-score, but because the sample size is greater than 30, the distribution of the sample mean is assumed to be normal, and the approximation is accurate enough for us to use a $z$-score. "
   ]
  },
  {
   "cell_type": "code",
   "execution_count": 8,
   "metadata": {},
   "outputs": [
    {
     "name": "stdout",
     "output_type": "stream",
     "text": [
      "-5.4759252020785585\n"
     ]
    }
   ],
   "source": [
    "test_stat=(temp_sample_mean-98.6)/(temp_sample_std/np.sqrt(130))\n",
    "print(test_stat)"
   ]
  },
  {
   "cell_type": "markdown",
   "metadata": {},
   "source": [
    "To calculate a p-statistic from this, we will use the `stats.norm.cdf` function to calculate the percentage of the area under the normal probability distribution function to the left of our z-value. We then multiply that value by 2, due to this being a two-tailed test (since we're testing the probability of the true population mean being above *or* below 98.6)."
   ]
  },
  {
   "cell_type": "code",
   "execution_count": 9,
   "metadata": {},
   "outputs": [
    {
     "name": "stdout",
     "output_type": "stream",
     "text": [
      "4.3523151658713056e-08\n"
     ]
    }
   ],
   "source": [
    "pval_z=stats.norm.cdf(test_stat)*2\n",
    "print(pval_z)"
   ]
  },
  {
   "cell_type": "markdown",
   "metadata": {},
   "source": [
    "The p-value from this test is approximately .00000004, which is much smaller than the significance level of .05 and heavily suggests that our null hypothesis should be rejected.\n",
    "\n",
    "If we used the t-test, the result would be calculated using the survival function under the t-distribution in scipy, as suggested here: https://docs.scipy.org/doc/scipy/reference/tutorial/stats.html#t-test-and-ks-test"
   ]
  },
  {
   "cell_type": "code",
   "execution_count": 10,
   "metadata": {},
   "outputs": [
    {
     "name": "stdout",
     "output_type": "stream",
     "text": [
      "2.1887464624050777e-07\n"
     ]
    }
   ],
   "source": [
    "pval_t=stats.t.sf(abs(test_stat),129)*2\n",
    "print(pval_t)"
   ]
  },
  {
   "cell_type": "markdown",
   "metadata": {},
   "source": [
    "The p-value from the t-test is approximately .0000002, and is also small enough to reject the null hypothesis.\n",
    "\n",
    "## 4. \n",
    "We now repeat both frequentist tests using a random sample of size 10 pulled from our larger sample."
   ]
  },
  {
   "cell_type": "code",
   "execution_count": 11,
   "metadata": {},
   "outputs": [
    {
     "data": {
      "text/plain": [
       "array([97.3, 98.8, 97. , 98.9, 98.3, 97.4, 97.2, 98.7, 97.2, 99.4])"
      ]
     },
     "execution_count": 11,
     "metadata": {},
     "output_type": "execute_result"
    }
   ],
   "source": [
    "subsample=np.random.choice(df.temperature,10)\n",
    "subsample"
   ]
  },
  {
   "cell_type": "code",
   "execution_count": 17,
   "metadata": {},
   "outputs": [
    {
     "name": "stdout",
     "output_type": "stream",
     "text": [
      "Our test statistic has a value of -7.8393797003692836.\n",
      "The p-value from our z-test is 4.5277749707269666e-15.\n",
      "The p-value from our t-test is 2.601887065353887e-05.\n"
     ]
    }
   ],
   "source": [
    "subsample_mean=np.mean(subsample)\n",
    "subsample_std=np.std(subsample)\n",
    "test_stat2=(subsample_mean-98.6)/(subsample_std/np.sqrt(130))\n",
    "print('Our test statistic has a value of '+str(test_stat2)+'.')\n",
    "pval2_z=pval_z=stats.norm.cdf(test_stat2)*2\n",
    "print('The p-value from our z-test is '+str(pval2_z)+'.')\n",
    "pval2_t=stats.t.sf(abs(test_stat2),9)*2\n",
    "print('The p-value from our t-test is '+ str(pval2_t)+'.')"
   ]
  },
  {
   "cell_type": "markdown",
   "metadata": {},
   "source": [
    "Since the sample size is under 30, it would be correct to use the t-test, since our distribution is not normal. What I noticed is that the p-value from the $t$-test is much larger than the p-value from the $z$-test. This indicates that the $t$-test, unlike the $z$-test, factors in the greater uncertainty of estimating the standard deviation of the sampling distribution when normality can't be assumed. This uncertainty increases as the sample size gets smaller.\n",
    "## 5.\n",
    "To answer the question of what temperature would be \"abnormal\" for someone to have, we calculate the 95% confidence interval for our temperature column. First, we start with the frequentist approach. Since we showed in earlier steps that the distribution of temperatures is approximately normal, the margin of error for our confidence interval is (plus or minus) the standard deviation multiplpied by the $z$-statistic for a tail probability of .975 (since the 5% of the area not in the middle of our z-distribution is split between both tails). In short,\n",
    "$$\\text{MoE}=\\pm z*s$$.\n",
    "Our confidence interval is the sample mean plus or minus the margin of error. "
   ]
  },
  {
   "cell_type": "code",
   "execution_count": 64,
   "metadata": {},
   "outputs": [
    {
     "name": "stdout",
     "output_type": "stream",
     "text": [
      "Our confidence interval is [96.81775582674821, 99.68070571171329].\n"
     ]
    },
    {
     "data": {
      "text/plain": [
       "0.730357778905038"
      ]
     },
     "execution_count": 64,
     "metadata": {},
     "output_type": "execute_result"
    }
   ],
   "source": [
    "z_star=stats.norm.ppf(.975)\n",
    "MoE=z_star*temp_sample_std\n",
    "conf_interval=np.array([temp_sample_mean-MoE,temp_sample_mean+MoE])\n",
    "print('Our confidence interval is ['+str(conf_interval[0])+\", \"+str(conf_interval[1])+\"].\")"
   ]
  },
  {
   "cell_type": "markdown",
   "metadata": {},
   "source": [
    "Based on that interval, an abnormal temperature would be one that's below 96.8 or above 99.7 degrees Fahrenheit.\n",
    "\n",
    "We now calculate the bootstrap confidence interval, using the bootstrap replicates we drew in question 3."
   ]
  },
  {
   "cell_type": "code",
   "execution_count": 153,
   "metadata": {},
   "outputs": [
    {
     "name": "stdout",
     "output_type": "stream",
     "text": [
      "[98.1223076923077, 98.37615384615384]\n"
     ]
    }
   ],
   "source": [
    "bs_replicates=draw_bs_reps(df.temperature,np.mean, 10000)\n",
    "bs_conf_interval=np.percentile(bs_replicates, [2.5,97.5])\n",
    "print('['+ str(bs_conf_interval[0])+\", \"+str(bs_conf_interval[1])+\"]\")"
   ]
  },
  {
   "cell_type": "markdown",
   "metadata": {},
   "source": [
    "The reason that interval is much smaller than our frequentist interval is because the latter contains 95% of all values in our original sample, while the former contains 95% of all of the means of our bootstrap replicate samples.\n",
    "## 6."
   ]
  },
  {
   "cell_type": "markdown",
   "metadata": {},
   "source": [
    "To test whether there is a significant difference between males and females in normal temperature, I used a frequentist hypothesis test for the difference of means, as we are testing the null hypothesis that the difference of the male mean body temperature and the female mean body temperature is 0. First, we check whether the sample sizes for male and female body temperatures are large enough to assume normality."
   ]
  },
  {
   "cell_type": "code",
   "execution_count": 122,
   "metadata": {},
   "outputs": [
    {
     "name": "stdout",
     "output_type": "stream",
     "text": [
      "Our sample size for our sampling distribution of male body temperatures is 65.\n",
      "Our sample size for our sampling distribution of female body temperatures is 65.\n"
     ]
    }
   ],
   "source": [
    "male_temp=df[df.gender=='M'].temperature\n",
    "female_temp=df[df.gender=='F'].temperature\n",
    "male_n=len(male_temp)\n",
    "female_n=len(female_temp)\n",
    "print(\"Our sample size for our sampling distribution of male body temperatures is \"+str(male_n)+\".\")\n",
    "print(\"Our sample size for our sampling distribution of female body temperatures is \"+str(female_n)+\".\")"
   ]
  },
  {
   "cell_type": "markdown",
   "metadata": {},
   "source": [
    "Both are large enough for us to apply the Central Limit Theorem here.\n",
    "\n",
    "Next, we caluclate the mean and standard deviation of each sampling distribution, and use those to find the mean and standard deviation of the difference of the distributions."
   ]
  },
  {
   "cell_type": "code",
   "execution_count": 145,
   "metadata": {},
   "outputs": [
    {
     "name": "stdout",
     "output_type": "stream",
     "text": [
      "The difference of the distributions has a mean of 0.2892, and a standard deviation of 0.1256.\n"
     ]
    }
   ],
   "source": [
    "temp_male_mean=np.mean(male_temp)\n",
    "temp_female_mean=np.mean(female_temp)\n",
    "temp_male_std=np.std(male_temp)\n",
    "temp_female_std=np.std(female_temp)\n",
    "diff_mean=temp_female_mean-temp_male_mean\n",
    "diff_std=np.sqrt((temp_male_std**2/len(male_temp))+(temp_female_std**2/len(female_temp)))\n",
    "print(\"The difference of the distributions has a mean of \"+str(np.round(diff_mean,4))+\\\n",
    "      \", and a standard deviation of \"+str(np.round(diff_std,4))+\".\")"
   ]
  },
  {
   "cell_type": "markdown",
   "metadata": {},
   "source": [
    "Finally, we calculate the likelihood of getting a value as extreme as our difference of means, and compare that to our significance level $\\alpha=0.05$."
   ]
  },
  {
   "cell_type": "code",
   "execution_count": 148,
   "metadata": {},
   "outputs": [
    {
     "name": "stdout",
     "output_type": "stream",
     "text": [
      "If the true difference in means between male and female temperatures were 0, then an observed difference in sample means of 0.2892 would have a p-value of 0.02127.\n"
     ]
    }
   ],
   "source": [
    "p_diff=(1-stats.norm.cdf(diff_mean,scale=diff_std))*2\n",
    "\n",
    "print(\"If the true difference in means between male and female temperatures were 0, \\\n",
    "then an observed difference in sample means of 0.2892 would have a p-value of \"+str(np.round(p_diff,5))+\".\")"
   ]
  },
  {
   "cell_type": "markdown",
   "metadata": {},
   "source": [
    "This p-value is smaller than our significance level, leading us to reject the null hypothesis that the mean body temperature is the same between men and women. On the contrary, it is statistically significant.\n",
    "\n",
    "## Conclusion\n",
    "Carl Wunderlich's 1868 assertion that the mean temperature of the human body was 98.6 degrees Fahrenheit had been accepted for 120 years. However, analysis of a sample of 130 individuals and their body temperatures suggests that the actual mean human body temperature is slightly lower, being centered at about 98.25 degrees Fahrenheit. According to the bootstrap confidence interval, there's a 95% chance that the true population mean for body temperature is between 98.122 and 98.376 degrees Fahrenheit. Additionally, the mean normal body temperature is not uniform between men and women; when the individuals in the sample are stratified by gender, the mean temperature of male individuals is statistically different from the mean temperature of female individuals."
   ]
  }
 ],
 "metadata": {
  "kernelspec": {
   "display_name": "Python 3",
   "language": "python",
   "name": "python3"
  },
  "language_info": {
   "codemirror_mode": {
    "name": "ipython",
    "version": 3
   },
   "file_extension": ".py",
   "mimetype": "text/x-python",
   "name": "python",
   "nbconvert_exporter": "python",
   "pygments_lexer": "ipython3",
   "version": "3.7.1"
  }
 },
 "nbformat": 4,
 "nbformat_minor": 1
}
